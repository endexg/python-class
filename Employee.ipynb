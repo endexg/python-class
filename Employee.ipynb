{
 "cells": [
  {
   "cell_type": "code",
   "execution_count": null,
   "metadata": {},
   "outputs": [],
   "source": [
    "Employee {'ID Number':001,\tName :'Mary',\tPay Rate:$15.00\t,\tHours Worked:40}\n",
    "         {'ID Number':002,\tName :'John',\tPay Rate:$22.00\t,\tHours Worked:25}\n",
    "\t\t {'ID Number':003,\tName :'Bob',\tPay Rate:$35.00\t,\tHours Worked:4}\n",
    "\t\t {'ID Number':004,\tName :'Bob',\tPay Rate:$35.00\t,\tHours Worked:4}\n",
    "\t\t {'ID Number':005,\tName :'Bob',\tPay Rate:$35.00\t,\tHours Worked:4}\n",
    "\t\t {'ID Number':006,\tName :'Bob',\tPay Rate:$35.00\t,\tHours Worked:4}\n",
    "\t\t {'ID Number':007,\tName :'Bob',\tPay Rate:$35.00\t,\tHours Worked:4}\n",
    "\t\t {'ID Number':008,\tName :'Bob',\tPay Rate:$35.00\t,\tHours Worked:4}\n",
    "\t\t {'ID Number':009,\tName :'Beth',\tPay Rate:$37.00,\tHours Worked:37}\n",
    "\t\t {'ID Number':010,\tName :'Ray',\tPay Rate:$16.50\t,\tHours Worked:80}\n",
    "004\tMel\t$43.00\t62\n",
    "005\tJen\t$17.00\t33\n",
    "006\tSue\t$29.00\t45\n",
    "007\tKen\t$40.00\t36\n",
    "008\tDave\t$20.00\t17\n",
    "009\tBeth\t$37.00\t37\n",
    "010\tRay\t$16.50\t80)\n",
    "\n",
    "\n",
    "\n",
    "\n",
    "#calculates the salary for the week of the employees \n",
    "Find ID Number\n",
    "Find Pay Rate\n",
    "Find Hours Worked\n",
    "If \"Hours Worked\">=40\n",
    "             Set 'Salary' = 'Pay Rate' * \"Hours Worked\"\n",
    "             print ('Name')\n",
    "             print ('Salary')\n",
    "Else \n",
    "            Set 'Salary' = (40 * 'Pay Rate') + (1.5 * (\"Hours Worked\"-40) * 'Pay Rate')\n",
    "             print ('Name')\n",
    "             print ('Salary')\n",
    "End If\n"
   ]
  },
  {
   "cell_type": "code",
   "execution_count": null,
   "metadata": {},
   "outputs": [],
   "source": [
    "import pandas as pd\n",
    "import numpy as np"
   ]
  },
  {
   "cell_type": "code",
   "execution_count": null,
   "metadata": {},
   "outputs": [],
   "source": [
    "df = pd.read_excel(\"Employee_Payroll.xlsx\")\n",
    "df.head()"
   ]
  },
  {
   "cell_type": "code",
   "execution_count": null,
   "metadata": {},
   "outputs": [],
   "source": [
    "df['ID Number']"
   ]
  },
  {
   "cell_type": "code",
   "execution_count": null,
   "metadata": {},
   "outputs": [],
   "source": [
    "df['Name']"
   ]
  },
  {
   "cell_type": "code",
   "execution_count": null,
   "metadata": {},
   "outputs": [],
   "source": [
    "varHW=df['Hours Worked']\n",
    "#varS=df['Salary']\n",
    "varPR=df['Pay Rate']"
   ]
  },
  {
   "cell_type": "code",
   "execution_count": null,
   "metadata": {},
   "outputs": [],
   "source": [
    "df['sum']=df.sum(axis=1)\n",
    "ds"
   ]
  },
  {
   "cell_type": "code",
   "execution_count": null,
   "metadata": {},
   "outputs": [],
   "source": [
    "Input employee’s name, ID#, HrWk, Payrate\n",
    "If HrWk>40O\n",
    "verTimeHrs = HrWk – 40\n",
    "ExtraPay = OverTimeHrs*(1.5*Payrate)\n",
    "Pay = (40*Payrate) + ExtraPay\n",
    "Otherwise Pay = 40 * Payrate\n",
    "Print out name, ID#, Pay"
   ]
  },
  {
   "cell_type": "code",
   "execution_count": null,
   "metadata": {},
   "outputs": [],
   "source": [
    "print(varHW)"
   ]
  },
  {
   "cell_type": "code",
   "execution_count": null,
   "metadata": {},
   "outputs": [],
   "source": [
    "for i in df.index:\n",
    "    if (varHW)<=40:\n",
    "        df['Salary'] =df.varPR*df.varHR(axis=1)\n",
    "   # print(df['Name'])\n",
    "        print(Salary)    \n",
    "    else: \n",
    "        df['Salary']= (40 * df.varPR) + (1.5 * (df.varHW-40) * df.varPR)\n",
    "   # print(df['Name'])\n",
    "        print(Salary)"
   ]
  },
  {
   "cell_type": "code",
   "execution_count": null,
   "metadata": {},
   "outputs": [],
   "source": []
  },
  {
   "cell_type": "code",
   "execution_count": null,
   "metadata": {},
   "outputs": [],
   "source": [
    "\"s\"+str(5)"
   ]
  },
  {
   "cell_type": "code",
   "execution_count": null,
   "metadata": {},
   "outputs": [],
   "source": [
    "import this\n"
   ]
  },
  {
   "cell_type": "code",
   "execution_count": null,
   "metadata": {},
   "outputs": [],
   "source": [
    "Cars=['ade','bolg','cas','toy']"
   ]
  },
  {
   "cell_type": "code",
   "execution_count": null,
   "metadata": {},
   "outputs": [],
   "source": [
    "for Car in Cars:\n",
    "    if Car=='bolg':\n",
    "        print(Car.upper())\n",
    "    else:\n",
    "        print(Car.title())\n",
    "    \n",
    "    "
   ]
  },
  {
   "cell_type": "code",
   "execution_count": null,
   "metadata": {},
   "outputs": [],
   "source": []
  }
 ],
 "metadata": {
  "kernelspec": {
   "display_name": "Python 3",
   "language": "python",
   "name": "python3"
  },
  "language_info": {
   "codemirror_mode": {
    "name": "ipython",
    "version": 3
   },
   "file_extension": ".py",
   "mimetype": "text/x-python",
   "name": "python",
   "nbconvert_exporter": "python",
   "pygments_lexer": "ipython3",
   "version": "3.7.3"
  }
 },
 "nbformat": 4,
 "nbformat_minor": 2
}
