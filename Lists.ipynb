{
 "cells": [
  {
   "cell_type": "markdown",
   "metadata": {},
   "source": [
    "# For Loops\n"
   ]
  },
  {
   "cell_type": "code",
   "execution_count": 22,
   "metadata": {},
   "outputs": [],
   "source": [
    "magicians=['alicia','bruk','Endalk']\n",
    "   "
   ]
  },
  {
   "cell_type": "code",
   "execution_count": 26,
   "metadata": {},
   "outputs": [
    {
     "name": "stdout",
     "output_type": "stream",
     "text": [
      "alicia  bruk  Endalk  \n"
     ]
    }
   ],
   "source": [
    "magician_tr = ''\n",
    "for magician in magicians:\n",
    "    \n",
    "    magician_tr+= magician + '  ' \n",
    "    \n",
    "print(magician_tr)"
   ]
  },
  {
   "cell_type": "code",
   "execution_count": 24,
   "metadata": {},
   "outputs": [
    {
     "name": "stdout",
     "output_type": "stream",
     "text": [
      "Alicia, that was a great trick!\n",
      "Bruk, that was a great trick!\n",
      "Endalk, that was a great trick!\n"
     ]
    }
   ],
   "source": [
    "for magician in magicians:\n",
    "    print(magician.title()+ ', that was a great trick!')"
   ]
  },
  {
   "cell_type": "code",
   "execution_count": 25,
   "metadata": {},
   "outputs": [
    {
     "name": "stdout",
     "output_type": "stream",
     "text": [
      "Alicia, that was a great trick!\n",
      "I can't wait to see your next trick,Alicia.\n",
      "\n",
      "Bruk, that was a great trick!\n",
      "I can't wait to see your next trick,Bruk.\n",
      "\n",
      "Endalk, that was a great trick!\n",
      "I can't wait to see your next trick,Endalk.\n",
      "\n"
     ]
    }
   ],
   "source": [
    "for magician in magicians:\n",
    "    print(magician.title()+ ', that was a great trick!')\n",
    "    print (\"I can't wait to see your next trick,\" +magician.title()+\".\\n\")"
   ]
  },
  {
   "cell_type": "code",
   "execution_count": 27,
   "metadata": {},
   "outputs": [
    {
     "name": "stdout",
     "output_type": "stream",
     "text": [
      "Alicia, that was a great trick!\n",
      "I can't wait to see your next trick,Alicia.\n",
      "\n",
      "Bruk, that was a great trick!\n",
      "I can't wait to see your next trick,Bruk.\n",
      "\n",
      "Endalk, that was a great trick!\n",
      "I can't wait to see your next trick,Endalk.\n",
      "\n",
      "Thank you everyone. That was a great magic show!\n"
     ]
    }
   ],
   "source": [
    "for magician in magicians:\n",
    "    print(magician.title()+ ', that was a great trick!')\n",
    "    print (\"I can't wait to see your next trick,\" +magician.title()+\".\\n\")\n",
    "    \n",
    "print(\"Thank you everyone. That was a great magic show!\")    "
   ]
  },
  {
   "cell_type": "code",
   "execution_count": 29,
   "metadata": {},
   "outputs": [
    {
     "name": "stdout",
     "output_type": "stream",
     "text": [
      "alicia\n",
      "bruk\n",
      "Endalk\n"
     ]
    }
   ],
   "source": [
    "for magician in magicians:\n",
    "    print(magician)"
   ]
  },
  {
   "cell_type": "code",
   "execution_count": null,
   "metadata": {},
   "outputs": [],
   "source": []
  }
 ],
 "metadata": {
  "kernelspec": {
   "display_name": "Python 3",
   "language": "python",
   "name": "python3"
  },
  "language_info": {
   "codemirror_mode": {
    "name": "ipython",
    "version": 3
   },
   "file_extension": ".py",
   "mimetype": "text/x-python",
   "name": "python",
   "nbconvert_exporter": "python",
   "pygments_lexer": "ipython3",
   "version": "3.7.3"
  }
 },
 "nbformat": 4,
 "nbformat_minor": 2
}
